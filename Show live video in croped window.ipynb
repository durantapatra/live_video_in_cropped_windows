{
 "cells": [
  {
   "cell_type": "code",
   "execution_count": 1,
   "id": "87402dcd",
   "metadata": {},
   "outputs": [],
   "source": [
    "import cv2"
   ]
  },
  {
   "cell_type": "code",
   "execution_count": 2,
   "id": "b4c9621c",
   "metadata": {},
   "outputs": [],
   "source": [
    "cap = cv2.VideoCapture(0) # Capturing the image\n",
    "ret , photo = cap.read()"
   ]
  },
  {
   "cell_type": "code",
   "execution_count": 3,
   "id": "8d3e3fb4",
   "metadata": {},
   "outputs": [],
   "source": [
    "cv2.imshow('Window', photo)\n",
    "cv2.waitKey()\n",
    "cv2.destroyAllWindows()"
   ]
  },
  {
   "cell_type": "code",
   "execution_count": 4,
   "id": "c4a5d309",
   "metadata": {},
   "outputs": [
    {
     "data": {
      "text/plain": [
       "(480, 640, 3)"
      ]
     },
     "execution_count": 4,
     "metadata": {},
     "output_type": "execute_result"
    }
   ],
   "source": [
    "photo.shape"
   ]
  },
  {
   "cell_type": "code",
   "execution_count": 5,
   "id": "f983905e",
   "metadata": {},
   "outputs": [],
   "source": [
    "cap = cv2.VideoCapture(0)\n",
    "while True:\n",
    "    ret , photo = cap.read()\n",
    "    \n",
    "    photo1 = photo[0:320,0:320]       # After cropping image storing into another variable\n",
    "    photo2 = photo[160:400,160:480]\n",
    "    photo3 = photo[320:480,320:640]\n",
    "    \n",
    "    cv2.imshow('win1',photo1)\n",
    "    cv2.imshow('win2',photo2)\n",
    "    cv2.imshow('win3',photo3)\n",
    "    cv2.imshow('photo',photo)\n",
    "    \n",
    "    if cv2.waitKey(10) == 13: # 13 is the Keycode of \"Enter\" key\n",
    "        break\n",
    "        \n",
    "cv2.destroyAllWindows()"
   ]
  },
  {
   "cell_type": "code",
   "execution_count": 11,
   "id": "7d4b8edf",
   "metadata": {},
   "outputs": [],
   "source": [
    "cap.release()"
   ]
  },
  {
   "cell_type": "code",
   "execution_count": null,
   "id": "e31744c9",
   "metadata": {},
   "outputs": [],
   "source": []
  }
 ],
 "metadata": {
  "kernelspec": {
   "display_name": "Python 3",
   "language": "python",
   "name": "python3"
  },
  "language_info": {
   "codemirror_mode": {
    "name": "ipython",
    "version": 3
   },
   "file_extension": ".py",
   "mimetype": "text/x-python",
   "name": "python",
   "nbconvert_exporter": "python",
   "pygments_lexer": "ipython3",
   "version": "3.8.8"
  }
 },
 "nbformat": 4,
 "nbformat_minor": 5
}
